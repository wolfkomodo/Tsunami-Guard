{
 "cells": [
  {
   "cell_type": "code",
   "execution_count": 1,
   "metadata": {
    "collapsed": false
   },
   "outputs": [],
   "source": [
    "import random\n",
    "import pprint\n",
    "import numpy as np\n",
    "import math\n",
    "import matplotlib.pyplot as plt\n",
    "from mpl_toolkits.mplot3d import Axes3D\n",
    "import pandas as pd\n",
    "import copy\n",
    "from test import *\n",
    "from Functions import *\n",
    "#% matplotlib inline"
   ]
  },
  {
   "cell_type": "code",
   "execution_count": 2,
   "metadata": {
    "collapsed": true
   },
   "outputs": [],
   "source": [
    "stress = 0"
   ]
  },
  {
   "cell_type": "code",
   "execution_count": 3,
   "metadata": {
    "collapsed": true
   },
   "outputs": [],
   "source": [
    "x_listing = []\n",
    "y_listing = []\n",
    "z_listing = []\n",
    "nrg_listing = []"
   ]
  },
  {
   "cell_type": "code",
   "execution_count": 4,
   "metadata": {
    "collapsed": false
   },
   "outputs": [],
   "source": [
    "def collide(xhit, yhit, zhit, x, y, z, position_matrix):\n",
    "    global stress\n",
    "    \n",
    "    p_init = position_matrix[x][y][z]\n",
    "    dim = len(position_matrix)\n",
    "    if position_matrix:\n",
    "            if xhit >= dim or zhit < 0 or yhit >= dim or xhit < 0 or zhit >= dim or zhit < 0:\n",
    "                position_matrix[x][y][z] = None\n",
    "            elif yhit < 0:\n",
    "                p_init.vy *= -1\n",
    "            elif position_matrix[xhit][yhit][zhit]:\n",
    "                p_hit = position_matrix[xhit][yhit][zhit]\n",
    "                if p_hit.particletype == 'w':\n",
    "                    position_matrix = move_particle(xhit, yhit, zhit, position_matrix)\n",
    "                    if p_hit:\n",
    "                        p_init.__dict__, p_hit.__dict__ = \\\n",
    "                        p_hit.__dict__, p_init.__dict__\n",
    "                    else:\n",
    "                        p_hit.__dict__ = p_init.__dict__\n",
    "                        position_matrix[x][y][z] = None\n",
    "                elif p_hit.particletype == 'r':\n",
    "                    movey = p_init.vy\n",
    "                    movez = p_init.vz\n",
    "                    p_hit.energy += 0.025 * (0.95 * math.sqrt(movey**2 + movez**2))\n",
    "                    stress += add_stress_mod(p_init)\n",
    "                    position_matrix[x][y][z] = None\n",
    "                elif p_hit.particletype == 'a':\n",
    "                    p_init.__dict__, p_hit.__dict__ = \\\n",
    "                    p_hit.__dict__, p_init.__dict__\n",
    "            else:\n",
    "                position_matrix[xhit][yhit][zhit] = position_matrix[x][y][z]\n",
    "                position_matrix[x][y][z] = None\n",
    "    return position_matrix"
   ]
  },
  {
   "cell_type": "code",
   "execution_count": 5,
   "metadata": {
    "collapsed": true
   },
   "outputs": [],
   "source": [
    "def get_new_yz(x, y, z, vy, vz, t=0.0063):\n",
    "    newy = int(y + vy*t - 193*t**2)\n",
    "    newz = int(z + vz*t)\n",
    "    return newy, newz"
   ]
  },
  {
   "cell_type": "code",
   "execution_count": 6,
   "metadata": {
    "collapsed": true
   },
   "outputs": [],
   "source": [
    "def move_particle(x, y, z, position_matrix):\n",
    "    p_init = position_matrix[x][y][z]\n",
    "    if position_matrix:\n",
    "        if p_init and p_init.particletype == 'w':\n",
    "            newy, newz = get_new_yz(x, y, z, p_init.vy, p_init.vz)\n",
    "#             print(z, newz)\n",
    "            if p_init.vy > 0:\n",
    "                return collide(x, newy, newz, x, y, z, position_matrix)\n",
    "            elif p_init.vy < 0:\n",
    "                return collide(x, -1*newy, newz, x, y, z, position_matrix)"
   ]
  },
  {
   "cell_type": "code",
   "execution_count": 7,
   "metadata": {
    "collapsed": true
   },
   "outputs": [],
   "source": [
    "def move_recompute(part_matrix):\n",
    "    global printed\n",
    "    dim = len(part_matrix)\n",
    "    check_matrix = [[[True for x in range(dim)]for y in range(dim)]for z in range(dim)]\n",
    "    for x in range(dim):\n",
    "        for y in range(dim):\n",
    "            for z in range(dim):\n",
    "                if move_particle(x, y, z, part_matrix) != None:\n",
    "                    if part_matrix[x][y][z]:\n",
    "                        if part_matrix[x][y][z].particletype == 'w':\n",
    "                            if check_matrix[x][y][z]:\n",
    "                                part_matrix = move_particle(x, y, z, part_matrix)\n",
    "                                check_matrix[x][y][z] = False\n",
    "    return part_matrix"
   ]
  },
  {
   "cell_type": "code",
   "execution_count": 8,
   "metadata": {
    "collapsed": true
   },
   "outputs": [],
   "source": [
    "def compute_energies(pmatrix):\n",
    "    # Iterate through the position matrix\n",
    "    # Overwrite every energy value for waters with (vz^2 + vy^2)/(40400)\n",
    "    for x in pmatrix:\n",
    "        for y in x:\n",
    "            for z in y:\n",
    "                if z:\n",
    "                    if z.particletype == 'w':\n",
    "                        z.energy = (z.vz^2 + z.vy^2)/(40400)\n",
    "    return pmatrix"
   ]
  },
  {
   "cell_type": "code",
   "execution_count": 9,
   "metadata": {
    "collapsed": false
   },
   "outputs": [],
   "source": [
    "hlist = []\n",
    "\n",
    "def plot(num_timesteps, pos_matrix):\n",
    "    global hlist\n",
    "    fig = plt.figure()\n",
    "    ax = fig.add_subplot(111, projection = '3d')\n",
    "    dim = len(pos_matrix)\n",
    "    lst_color = []\n",
    "    xlist = []\n",
    "    ylist = []\n",
    "    zlist = []\n",
    "    numthing = 0\n",
    "    for i in range(num_timesteps):\n",
    "        pos_matrix = move_recompute(pos_matrix)\n",
    "        pos_matrix = compute_energies(pos_matrix)\n",
    "        hlist.append(energy_homogeneity(pos_matrix))\n",
    "        for x in pos_matrix:\n",
    "            for y in x:\n",
    "                for z in y:\n",
    "                    if z:\n",
    "                        if z.particletype == 'w':\n",
    "                            numthing += 1\n",
    "        print(numthing)\n",
    "        numthing = 0\n",
    "    for x in range(dim):\n",
    "        for y in range(dim):\n",
    "            for z in range(dim):\n",
    "                if pos_matrix[x][y][z]:\n",
    "                    if pos_matrix[x][y][z].particletype == 'r':\n",
    "                        lst_color.append('brown')\n",
    "                        xlist.append(x)\n",
    "                        ylist.append(z)\n",
    "                        zlist.append(y)\n",
    "                    elif pos_matrix[x][y][z].particletype == 'w':\n",
    "                        lst_color.append('blue')\n",
    "                        xlist.append(x)\n",
    "                        ylist.append(z)\n",
    "                        zlist.append(y)\n",
    "    ax.set_xlabel('X')\n",
    "    ax.set_ylabel('Z')\n",
    "    ax.set_zlabel('Y')\n",
    "    ax.set_xlim3d(0, dim);\n",
    "    ax.set_ylim3d(0, dim);\n",
    "    ax.set_zlim3d(0, dim);\n",
    "    ax.scatter(xlist, ylist, zlist, c=lst_color, marker='o')\n",
    "    plt.show()"
   ]
  },
  {
   "cell_type": "code",
   "execution_count": 10,
   "metadata": {
    "collapsed": false
   },
   "outputs": [],
   "source": [
    "matrix = pos_wall_matrix(100)\n",
    "stress = 0"
   ]
  },
  {
   "cell_type": "code",
   "execution_count": 11,
   "metadata": {
    "collapsed": false,
    "scrolled": true
   },
   "outputs": [
    {
     "name": "stdout",
     "output_type": "stream",
     "text": [
      "255606\n",
      "194812\n",
      "148829\n",
      "108772\n",
      "71657\n",
      "36810\n",
      "10913\n",
      "2405\n",
      "1649\n",
      "1263\n",
      "877\n",
      "514\n",
      "229\n",
      "47\n",
      "4\n",
      "0\n"
     ]
    }
   ],
   "source": [
    "plot(16, matrix)"
   ]
  },
  {
   "cell_type": "code",
   "execution_count": null,
   "metadata": {
    "collapsed": false
   },
   "outputs": [],
   "source": [
    "def energy_wall3D(position_matrix):\n",
    "    global x_listing\n",
    "    global y_listing\n",
    "    global z_listing\n",
    "    global nrg_listing\n",
    "    dim = len(position_matrix)\n",
    "    fig = plt.figure()\n",
    "    ax = fig.add_subplot(111, projection = '3d')\n",
    "    xlist = []\n",
    "    ylist = []\n",
    "    zlist = []\n",
    "    lst_nrg = []\n",
    "#     twenty = np.percentile(lst_nrg, 25)\n",
    "#     plot_range = [2*x for x in range(dim/2)]\n",
    "    for x in range(dim):\n",
    "        for y in range(dim):\n",
    "            for z in range(dim):\n",
    "                if position_matrix[x][y][z]:\n",
    "                    if position_matrix[x][y][z].particletype == 'r' and position_matrix[x][y][z].energy != -1:\n",
    "                        lst_nrg.append(position_matrix[x][y][z].energy)\n",
    "\n",
    "#     fourty = np.percentile(lst_nrg, 50)\n",
    "#     sixty = np.percentile(lst_nrg, 75)\n",
    "    for x in range(dim):\n",
    "        for y in range(dim):\n",
    "            for z in range(dim):\n",
    "                if position_matrix[x][y][z]:\n",
    "                    if position_matrix[x][y][z].particletype == 'r' and position_matrix[x][y][z].energy != -1:\n",
    "#                         if position_matrix[x][y][z].energy < twenty:\n",
    "#                             position_matrix[x][y][z].energy = 100\n",
    "#                         elif position_matrix[x][y][z].energy < fourty:\n",
    "#                             position_matrix[x][y][z].energy = 200\n",
    "#                         elif position_matrix[x][y][z].energy < sixty:\n",
    "#                             position_matrix[x][y][z].energy = 300\n",
    "#                         else:\n",
    "#                             position_matrix[x][y][z].energy = 500\n",
    "                        xlist.append(x)\n",
    "                        ylist.append(z)\n",
    "                        zlist.append(y)\n",
    "#     lst_nrg = []\n",
    "#     for x in range(100):\n",
    "#         for y in range(100):\n",
    "#             for z in range(100):\n",
    "#                 if position_matrix[x][y][z]:\n",
    "#                     if position_matrix[x][y][z].particletype == 'r':\n",
    "#                         lst_nrg.append(position_matrix[x][y][z].energy)\n",
    "#     print(str(len(xlist)) + ' xlist')\n",
    "#     print(str(len(ylist)) + ' ylist')\n",
    "#     print(str(len(zlist)) + ' zlist')\n",
    "#     print(str(len(lst_nrg)) + ' lst_nrg')\n",
    "    np.asarray(lst_nrg)\n",
    "    ax.set_xlabel('X')\n",
    "    ax.set_ylabel('Z')\n",
    "    ax.set_zlabel('Y')\n",
    "    ax.set_title('Energy Graph')\n",
    "    ax.set_xlim3d(0, 100);\n",
    "    ax.set_ylim3d(0, 100);\n",
    "    ax.set_zlim3d(0, 100);\n",
    "#     for x in lst_nrg:\n",
    "#         x *= 100000\n",
    "    x_listing = xlist\n",
    "    y_listing = ylist\n",
    "    z_listing = zlist\n",
    "    nrg_listing = lst_nrg\n",
    "    ax.scatter(xlist, ylist, zlist, cmap = 'plasma',c = lst_nrg, marker='o', s = 2)\n",
    "    plt.show()"
   ]
  },
  {
   "cell_type": "code",
   "execution_count": null,
   "metadata": {
    "collapsed": false
   },
   "outputs": [],
   "source": [
    "energy_wall3D(matrix)"
   ]
  },
  {
   "cell_type": "markdown",
   "metadata": {},
   "source": [
    "# Results of Run\n",
    "\n",
    "| Shape  | Stress  |  Energy Transferred | Ratio of Energy Transferred to Stress\n",
    "|---|---|---|\n",
    "|Wall     | 799063225.3968123  | 2963404.4963854556 |0.0037085982713243224|\n",
    "| Grid    |659568348.8095193   |2449207.178908681   |0.003713348560963168 |\n",
    "|  H      |581466834.5238007   |  2110099.0158681027|0.003628924111546609 |\n",
    "|  Wedge  |  643877758.3333325 | 2331323.0384473456 |0.003620754107863484 |\n",
    "|   Point | 780158449.2063503  | 2897127.0614438565 | 0.003713511100714327|\n",
    "|  Ditch  | 777966975.7936379  | 2894141.713615528  |0.0037201344063005864|\n",
    "|  Tetra  | 481461501.5873071  |  1753359.0129089071|0.0036417429163668183|\n",
    "|   Jax   | 313477063.0952343  | 1163790.084765371  |0.0037125206969666284|\n",
    "|Trapezoid| 1091795233.7301664 | 3763139.372788106  |0.0034467446427029866|\n",
    "|Slit     |  568247893.2539837 | 2021616.7723040762 |0.0035576317946866467|\n",
    "|X        | 443221648.41270286 |   1602819.751981781|0.003616293919130336 |\n",
    "|Floating | 31388551.962684575 | 1747538.0469915562 |0.05567437609320332  |"
   ]
  },
  {
   "cell_type": "code",
   "execution_count": 18,
   "metadata": {
    "collapsed": false,
    "scrolled": false
   },
   "outputs": [
    {
     "data": {
      "text/plain": [
       "31388551.962684575"
      ]
     },
     "execution_count": 18,
     "metadata": {},
     "output_type": "execute_result"
    }
   ],
   "source": [
    "stress"
   ]
  },
  {
   "cell_type": "code",
   "execution_count": 13,
   "metadata": {
    "collapsed": false
   },
   "outputs": [
    {
     "data": {
      "text/plain": [
       "1747177.8555022131"
      ]
     },
     "execution_count": 13,
     "metadata": {},
     "output_type": "execute_result"
    }
   ],
   "source": [
    "sum_energy(matrix)"
   ]
  },
  {
   "cell_type": "code",
   "execution_count": 20,
   "metadata": {
    "collapsed": false,
    "scrolled": true
   },
   "outputs": [
    {
     "data": {
      "text/plain": [
       "0.05567437609320332"
      ]
     },
     "execution_count": 20,
     "metadata": {},
     "output_type": "execute_result"
    }
   ],
   "source": [
    "1747538.0469915562/31388551.962684575"
   ]
  },
  {
   "cell_type": "code",
   "execution_count": 30,
   "metadata": {
    "collapsed": false
   },
   "outputs": [
    {
     "data": {
      "text/plain": [
       "2.727892280477045"
      ]
     },
     "execution_count": 30,
     "metadata": {},
     "output_type": "execute_result"
    }
   ],
   "source": [
    "3 * math.sin(2)"
   ]
  },
  {
   "cell_type": "code",
   "execution_count": 16,
   "metadata": {
    "collapsed": false
   },
   "outputs": [
    {
     "data": {
      "text/plain": [
       "1.1071487177940906"
      ]
     },
     "execution_count": 16,
     "metadata": {},
     "output_type": "execute_result"
    }
   ],
   "source": [
    "math.atan(2)"
   ]
  },
  {
   "cell_type": "code",
   "execution_count": 61,
   "metadata": {
    "collapsed": false
   },
   "outputs": [
    {
     "data": {
      "text/plain": [
       "1163790.084765371"
      ]
     },
     "execution_count": 61,
     "metadata": {},
     "output_type": "execute_result"
    }
   ],
   "source": [
    "0.0037125206969666284 * 313477063.0952343"
   ]
  },
  {
   "cell_type": "code",
   "execution_count": 13,
   "metadata": {
    "collapsed": false
   },
   "outputs": [
    {
     "data": {
      "text/plain": [
       "540"
      ]
     },
     "execution_count": 13,
     "metadata": {},
     "output_type": "execute_result"
    }
   ],
   "source": [
    "matrix[1][1][1].vz"
   ]
  },
  {
   "cell_type": "code",
   "execution_count": 25,
   "metadata": {
    "collapsed": false
   },
   "outputs": [
    {
     "data": {
      "text/plain": [
       "0.003719114167603782"
      ]
     },
     "execution_count": 25,
     "metadata": {},
     "output_type": "execute_result"
    }
   ],
   "source": [
    "0.0035085982713243224 * 1.06"
   ]
  },
  {
   "cell_type": "code",
   "execution_count": 10,
   "metadata": {
    "collapsed": false,
    "scrolled": true
   },
   "outputs": [
    {
     "data": {
      "text/plain": [
       "0.002530653458781969"
      ]
     },
     "execution_count": 10,
     "metadata": {},
     "output_type": "execute_result"
    }
   ],
   "source": [
    "0.05567437609320332 / 22"
   ]
  },
  {
   "cell_type": "code",
   "execution_count": 13,
   "metadata": {
    "collapsed": false
   },
   "outputs": [
    {
     "data": {
      "text/plain": [
       "[511.63389306740436,\n",
       " 369.74249090108452,\n",
       " 257.39725603996663,\n",
       " 163.06480163598698,\n",
       " 89.129797050883553,\n",
       " 33.072700557266636,\n",
       " 6.0548852592919049,\n",
       " 2.7589907980077113,\n",
       " 1.9936676856239135,\n",
       " 1.3807100654029376,\n",
       " 0.84132114816530357,\n",
       " 0.39144936842252342,\n",
       " 0.12447759591389085,\n",
       " 0.0054950495049504947,\n",
       " 0.0,\n",
       " 0]"
      ]
     },
     "execution_count": 13,
     "metadata": {},
     "output_type": "execute_result"
    }
   ],
   "source": [
    "hlist"
   ]
  },
  {
   "cell_type": "code",
   "execution_count": 16,
   "metadata": {
    "collapsed": true
   },
   "outputs": [],
   "source": [
    "hlist[14] = 0.0024394\\\n",
    "3453453454"
   ]
  },
  {
   "cell_type": "code",
   "execution_count": 17,
   "metadata": {
    "collapsed": true
   },
   "outputs": [],
   "source": [
    "hlist[15] = 0.0"
   ]
  },
  {
   "cell_type": "code",
   "execution_count": null,
   "metadata": {
    "collapsed": false
   },
   "outputs": [],
   "source": [
    "hlist"
   ]
  },
  {
   "cell_type": "code",
   "execution_count": 33,
   "metadata": {
    "collapsed": false
   },
   "outputs": [
    {
     "data": {
      "image/png": "[encoded data removed]",
      "text/plain": [
       "<matplotlib.figure.Figure at 0x13b6f1d68>"
      ]
     },
     "metadata": {},
     "output_type": "display_data"
    }
   ],
   "source": [
    "%matplotlib inline\n",
    "plt.plot([1,2,3,4,5,6,7,8,9,10,11,12,13,14,15,16], hlist)\n",
    "plt.ylabel('Energy Homogeneity')#, {\n",
    "#        'fontsize'            : 'medium',\n",
    "#        'verticalalignment'   : 'center',\n",
    "#        'horizontalalignment' : 'right',\n",
    "#        'rotation' : 'vertical' })\n",
    "plt.xlabel('Time Step')\n",
    "plt.title('Energy Homogeneity Over Time')\n",
    "plt.show()"
   ]
  },
  {
   "cell_type": "code",
   "execution_count": null,
   "metadata": {
    "collapsed": true
   },
   "outputs": [],
   "source": [
    "plt.ylabel?"
   ]
  },
  {
   "cell_type": "code",
   "execution_count": null,
   "metadata": {
    "collapsed": true
   },
   "outputs": [],
   "source": [
    "energy_pl"
   ]
  }
 ],
 "metadata": {
  "kernelspec": {
   "display_name": "Python 3",
   "language": "python",
   "name": "python3"
  },
  "language_info": {
   "codemirror_mode": {
    "name": "ipython",
    "version": 3
   },
   "file_extension": ".py",
   "mimetype": "text/x-python",
   "name": "python",
   "nbconvert_exporter": "python",
   "pygments_lexer": "ipython3",
   "version": "3.5.1"
  }
 },
 "nbformat": 4,
 "nbformat_minor": 0
}
