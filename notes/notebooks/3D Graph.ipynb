{
 "cells": [
  {
   "cell_type": "code",
   "execution_count": 1,
   "metadata": {
    "collapsed": false
   },
   "outputs": [],
   "source": [
    "import numpy as np\n",
    "from mpl_toolkits.mplot3d import Axes3D\n",
    "import matplotlib.pyplot as plt\n",
    "import random\n",
    "#%matplotlib inline"
   ]
  },
  {
   "cell_type": "markdown",
   "metadata": {},
   "source": [
    "When I use *%matplotlib inline*, my graph becomes a black cube, so I am removing it from the code"
   ]
  },
  {
   "cell_type": "code",
   "execution_count": 2,
   "metadata": {
    "collapsed": false
   },
   "outputs": [
    {
     "name": "stdout",
     "output_type": "stream",
     "text": [
      "testing\n"
     ]
    }
   ],
   "source": [
    "print('testing')"
   ]
  },
  {
   "cell_type": "code",
   "execution_count": 3,
   "metadata": {
    "collapsed": false
   },
   "outputs": [
    {
     "name": "stdout",
     "output_type": "stream",
     "text": [
      "Number of blue dots: 175100\n",
      "Number of brown dots: 824900\n"
     ]
    }
   ],
   "source": [
    "fig = plt.figure()\n",
    "ax = fig.add_subplot(111, projection = '3d')\n",
    "xlist = []\n",
    "ylist = []\n",
    "zlist = []\n",
    "colors = []\n",
    "a = random.random()\n",
    "b = random.randint(1, 101)\n",
    "blue_num = 0\n",
    "brown_num = 0\n",
    "for x in range(1, 101):\n",
    "    for y in range(1, 101):\n",
    "        for z in range(1, 101):\n",
    "            xlist.append(x)\n",
    "            ylist.append(y)\n",
    "            zlist.append(z)\n",
    "            if z > a*y + b:\n",
    "                colors.append('blue')\n",
    "                blue_num += 1\n",
    "            else:\n",
    "                colors.append('brown')\n",
    "                brown_num += 1\n",
    "ax.set_xlabel('X')\n",
    "ax.set_ylabel('Y')\n",
    "ax.set_zlabel('Z')\n",
    "ax.set_xlim3d(0, 100);\n",
    "ax.set_ylim3d(0, 100);\n",
    "ax.set_zlim3d(0, 100);\n",
    "ax.scatter(xlist, ylist, zlist, c=colors, marker='o')\n",
    "print('Number of blue dots: %d' % blue_num)\n",
    "print('Number of brown dots: %d' % brown_num)\n",
    "plt.show()"
   ]
  },
  {
   "cell_type": "code",
   "execution_count": null,
   "metadata": {
    "collapsed": true
   },
   "outputs": [],
   "source": []
  }
 ],
 "metadata": {
  "kernelspec": {
   "display_name": "Python 3",
   "language": "python",
   "name": "python3"
  },
  "language_info": {
   "codemirror_mode": {
    "name": "ipython",
    "version": 3
   },
   "file_extension": ".py",
   "mimetype": "text/x-python",
   "name": "python",
   "nbconvert_exporter": "python",
   "pygments_lexer": "ipython3",
   "version": "3.5.1"
  }
 },
 "nbformat": 4,
 "nbformat_minor": 0
}
